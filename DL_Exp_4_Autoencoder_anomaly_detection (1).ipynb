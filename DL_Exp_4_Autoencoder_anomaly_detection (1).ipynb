{
  "cells": [
    {
      "cell_type": "code",
      "execution_count": null,
      "id": "daaaa707",
      "metadata": {
        "id": "daaaa707"
      },
      "outputs": [],
      "source": [
        "import pandas as pd\n",
        "import numpy as np\n",
        "import tensorflow as tf\n",
        "import matplotlib.pyplot as plt\n",
        "import seaborn as sns\n",
        "from sklearn.model_selection import train_test_split\n",
        "\n",
        "from sklearn.preprocessing import StandardScaler\n",
        "from sklearn.metrics import confusion_matrix, recall_score, accuracy_score, precision_score\n",
        "\n",
        "RANDOM_SEED = 2021\n",
        "TEST_PCT = 0.3\n",
        "LABELS = [\"Normal\",\"Fraud\"]"
      ]
    },
    {
      "cell_type": "code",
      "execution_count": null,
      "id": "e45c8e86",
      "metadata": {
        "colab": {
          "background_save": true
        },
        "id": "e45c8e86",
        "outputId": "20f7cbe2-df52-4738-ca30-805ccc2bff47"
      },
      "outputs": [
        {
          "ename": "FileNotFoundError",
          "evalue": "[Errno 2] No such file or directory: 'creditcard.csv'",
          "output_type": "error",
          "traceback": [
            "\u001b[0;31m---------------------------------------------------------------------------\u001b[0m",
            "\u001b[0;31mFileNotFoundError\u001b[0m                         Traceback (most recent call last)",
            "\u001b[0;32m<ipython-input-3-76c75d4633e6>\u001b[0m in \u001b[0;36m<cell line: 1>\u001b[0;34m()\u001b[0m\n\u001b[0;32m----> 1\u001b[0;31m \u001b[0mdataset\u001b[0m \u001b[0;34m=\u001b[0m \u001b[0mpd\u001b[0m\u001b[0;34m.\u001b[0m\u001b[0mread_csv\u001b[0m\u001b[0;34m(\u001b[0m\u001b[0;34m\"creditcard.csv\"\u001b[0m\u001b[0;34m)\u001b[0m\u001b[0;34m\u001b[0m\u001b[0;34m\u001b[0m\u001b[0m\n\u001b[0m",
            "\u001b[0;32m/usr/local/lib/python3.10/dist-packages/pandas/io/parsers/readers.py\u001b[0m in \u001b[0;36mread_csv\u001b[0;34m(filepath_or_buffer, sep, delimiter, header, names, index_col, usecols, dtype, engine, converters, true_values, false_values, skipinitialspace, skiprows, skipfooter, nrows, na_values, keep_default_na, na_filter, verbose, skip_blank_lines, parse_dates, infer_datetime_format, keep_date_col, date_parser, date_format, dayfirst, cache_dates, iterator, chunksize, compression, thousands, decimal, lineterminator, quotechar, quoting, doublequote, escapechar, comment, encoding, encoding_errors, dialect, on_bad_lines, delim_whitespace, low_memory, memory_map, float_precision, storage_options, dtype_backend)\u001b[0m\n\u001b[1;32m   1024\u001b[0m     \u001b[0mkwds\u001b[0m\u001b[0;34m.\u001b[0m\u001b[0mupdate\u001b[0m\u001b[0;34m(\u001b[0m\u001b[0mkwds_defaults\u001b[0m\u001b[0;34m)\u001b[0m\u001b[0;34m\u001b[0m\u001b[0;34m\u001b[0m\u001b[0m\n\u001b[1;32m   1025\u001b[0m \u001b[0;34m\u001b[0m\u001b[0m\n\u001b[0;32m-> 1026\u001b[0;31m     \u001b[0;32mreturn\u001b[0m \u001b[0m_read\u001b[0m\u001b[0;34m(\u001b[0m\u001b[0mfilepath_or_buffer\u001b[0m\u001b[0;34m,\u001b[0m \u001b[0mkwds\u001b[0m\u001b[0;34m)\u001b[0m\u001b[0;34m\u001b[0m\u001b[0;34m\u001b[0m\u001b[0m\n\u001b[0m\u001b[1;32m   1027\u001b[0m \u001b[0;34m\u001b[0m\u001b[0m\n\u001b[1;32m   1028\u001b[0m \u001b[0;34m\u001b[0m\u001b[0m\n",
            "\u001b[0;32m/usr/local/lib/python3.10/dist-packages/pandas/io/parsers/readers.py\u001b[0m in \u001b[0;36m_read\u001b[0;34m(filepath_or_buffer, kwds)\u001b[0m\n\u001b[1;32m    618\u001b[0m \u001b[0;34m\u001b[0m\u001b[0m\n\u001b[1;32m    619\u001b[0m     \u001b[0;31m# Create the parser.\u001b[0m\u001b[0;34m\u001b[0m\u001b[0;34m\u001b[0m\u001b[0m\n\u001b[0;32m--> 620\u001b[0;31m     \u001b[0mparser\u001b[0m \u001b[0;34m=\u001b[0m \u001b[0mTextFileReader\u001b[0m\u001b[0;34m(\u001b[0m\u001b[0mfilepath_or_buffer\u001b[0m\u001b[0;34m,\u001b[0m \u001b[0;34m**\u001b[0m\u001b[0mkwds\u001b[0m\u001b[0;34m)\u001b[0m\u001b[0;34m\u001b[0m\u001b[0;34m\u001b[0m\u001b[0m\n\u001b[0m\u001b[1;32m    621\u001b[0m \u001b[0;34m\u001b[0m\u001b[0m\n\u001b[1;32m    622\u001b[0m     \u001b[0;32mif\u001b[0m \u001b[0mchunksize\u001b[0m \u001b[0;32mor\u001b[0m \u001b[0miterator\u001b[0m\u001b[0;34m:\u001b[0m\u001b[0;34m\u001b[0m\u001b[0;34m\u001b[0m\u001b[0m\n",
            "\u001b[0;32m/usr/local/lib/python3.10/dist-packages/pandas/io/parsers/readers.py\u001b[0m in \u001b[0;36m__init__\u001b[0;34m(self, f, engine, **kwds)\u001b[0m\n\u001b[1;32m   1618\u001b[0m \u001b[0;34m\u001b[0m\u001b[0m\n\u001b[1;32m   1619\u001b[0m         \u001b[0mself\u001b[0m\u001b[0;34m.\u001b[0m\u001b[0mhandles\u001b[0m\u001b[0;34m:\u001b[0m \u001b[0mIOHandles\u001b[0m \u001b[0;34m|\u001b[0m \u001b[0;32mNone\u001b[0m \u001b[0;34m=\u001b[0m \u001b[0;32mNone\u001b[0m\u001b[0;34m\u001b[0m\u001b[0;34m\u001b[0m\u001b[0m\n\u001b[0;32m-> 1620\u001b[0;31m         \u001b[0mself\u001b[0m\u001b[0;34m.\u001b[0m\u001b[0m_engine\u001b[0m \u001b[0;34m=\u001b[0m \u001b[0mself\u001b[0m\u001b[0;34m.\u001b[0m\u001b[0m_make_engine\u001b[0m\u001b[0;34m(\u001b[0m\u001b[0mf\u001b[0m\u001b[0;34m,\u001b[0m \u001b[0mself\u001b[0m\u001b[0;34m.\u001b[0m\u001b[0mengine\u001b[0m\u001b[0;34m)\u001b[0m\u001b[0;34m\u001b[0m\u001b[0;34m\u001b[0m\u001b[0m\n\u001b[0m\u001b[1;32m   1621\u001b[0m \u001b[0;34m\u001b[0m\u001b[0m\n\u001b[1;32m   1622\u001b[0m     \u001b[0;32mdef\u001b[0m \u001b[0mclose\u001b[0m\u001b[0;34m(\u001b[0m\u001b[0mself\u001b[0m\u001b[0;34m)\u001b[0m \u001b[0;34m->\u001b[0m \u001b[0;32mNone\u001b[0m\u001b[0;34m:\u001b[0m\u001b[0;34m\u001b[0m\u001b[0;34m\u001b[0m\u001b[0m\n",
            "\u001b[0;32m/usr/local/lib/python3.10/dist-packages/pandas/io/parsers/readers.py\u001b[0m in \u001b[0;36m_make_engine\u001b[0;34m(self, f, engine)\u001b[0m\n\u001b[1;32m   1878\u001b[0m                 \u001b[0;32mif\u001b[0m \u001b[0;34m\"b\"\u001b[0m \u001b[0;32mnot\u001b[0m \u001b[0;32min\u001b[0m \u001b[0mmode\u001b[0m\u001b[0;34m:\u001b[0m\u001b[0;34m\u001b[0m\u001b[0;34m\u001b[0m\u001b[0m\n\u001b[1;32m   1879\u001b[0m                     \u001b[0mmode\u001b[0m \u001b[0;34m+=\u001b[0m \u001b[0;34m\"b\"\u001b[0m\u001b[0;34m\u001b[0m\u001b[0;34m\u001b[0m\u001b[0m\n\u001b[0;32m-> 1880\u001b[0;31m             self.handles = get_handle(\n\u001b[0m\u001b[1;32m   1881\u001b[0m                 \u001b[0mf\u001b[0m\u001b[0;34m,\u001b[0m\u001b[0;34m\u001b[0m\u001b[0;34m\u001b[0m\u001b[0m\n\u001b[1;32m   1882\u001b[0m                 \u001b[0mmode\u001b[0m\u001b[0;34m,\u001b[0m\u001b[0;34m\u001b[0m\u001b[0;34m\u001b[0m\u001b[0m\n",
            "\u001b[0;32m/usr/local/lib/python3.10/dist-packages/pandas/io/common.py\u001b[0m in \u001b[0;36mget_handle\u001b[0;34m(path_or_buf, mode, encoding, compression, memory_map, is_text, errors, storage_options)\u001b[0m\n\u001b[1;32m    871\u001b[0m         \u001b[0;32mif\u001b[0m \u001b[0mioargs\u001b[0m\u001b[0;34m.\u001b[0m\u001b[0mencoding\u001b[0m \u001b[0;32mand\u001b[0m \u001b[0;34m\"b\"\u001b[0m \u001b[0;32mnot\u001b[0m \u001b[0;32min\u001b[0m \u001b[0mioargs\u001b[0m\u001b[0;34m.\u001b[0m\u001b[0mmode\u001b[0m\u001b[0;34m:\u001b[0m\u001b[0;34m\u001b[0m\u001b[0;34m\u001b[0m\u001b[0m\n\u001b[1;32m    872\u001b[0m             \u001b[0;31m# Encoding\u001b[0m\u001b[0;34m\u001b[0m\u001b[0;34m\u001b[0m\u001b[0m\n\u001b[0;32m--> 873\u001b[0;31m             handle = open(\n\u001b[0m\u001b[1;32m    874\u001b[0m                 \u001b[0mhandle\u001b[0m\u001b[0;34m,\u001b[0m\u001b[0;34m\u001b[0m\u001b[0;34m\u001b[0m\u001b[0m\n\u001b[1;32m    875\u001b[0m                 \u001b[0mioargs\u001b[0m\u001b[0;34m.\u001b[0m\u001b[0mmode\u001b[0m\u001b[0;34m,\u001b[0m\u001b[0;34m\u001b[0m\u001b[0;34m\u001b[0m\u001b[0m\n",
            "\u001b[0;31mFileNotFoundError\u001b[0m: [Errno 2] No such file or directory: 'creditcard.csv'"
          ]
        }
      ],
      "source": [
        "dataset = pd.read_csv(\"creditcard.csv\")"
      ]
    },
    {
      "cell_type": "code",
      "execution_count": null,
      "id": "c85c9ea7",
      "metadata": {
        "colab": {
          "base_uri": "https://localhost:8080/"
        },
        "id": "c85c9ea7",
        "outputId": "39bb06ba-fe71-4941-bcbb-ba0a8f437a3b"
      },
      "outputs": [
        {
          "name": "stdout",
          "output_type": "stream",
          "text": [
            "Any nulls in the dataset True\n",
            "-------\n",
            "No. of unique labels 3\n",
            "Label values [ 0.  1. nan]\n",
            "-------\n",
            "Break down of Normal and Fraud Transcations\n",
            "0.0    9926\n",
            "1.0      38\n",
            "Name: Class, dtype: int64\n"
          ]
        }
      ],
      "source": [
        "#check for any null values\n",
        "print(\"Any nulls in the dataset\",dataset.isnull().values.any())\n",
        "print('-------')\n",
        "print(\"No. of unique labels\",len(dataset['Class'].unique()))\n",
        "print(\"Label values\",dataset.Class.unique())\n",
        "\n",
        "#0 is for normal credit card transcation\n",
        "#1 is for fraudulent credit card transcation\n",
        "print('-------')\n",
        "print(\"Break down of Normal and Fraud Transcations\")\n",
        "print(pd.value_counts(dataset['Class'],sort=True))"
      ]
    },
    {
      "cell_type": "code",
      "execution_count": null,
      "id": "86b3c7b2",
      "metadata": {
        "colab": {
          "base_uri": "https://localhost:8080/",
          "height": 312
        },
        "id": "86b3c7b2",
        "outputId": "cc67016b-c065-46db-8153-101b6691c481"
      },
      "outputs": [
        {
          "data": {
            "text/plain": [
              "Text(0, 0.5, 'Number of Observations')"
            ]
          },
          "execution_count": 8,
          "metadata": {},
          "output_type": "execute_result"
        },
        {
          "data": {
            "image/png": "[encoded data removed]",
            "text/plain": [
              "<Figure size 432x288 with 1 Axes>"
            ]
          },
          "metadata": {},
          "output_type": "display_data"
        }
      ],
      "source": [
        "#visualizing the imbalanced dataset\n",
        "count_classes = pd.value_counts(dataset['Class'],sort=True)\n",
        "count_classes.plot(kind='bar',rot=0)\n",
        "plt.xticks(range(len(dataset['Class'].unique())),dataset.Class.unique())\n",
        "plt.title(\"Frequency by observation number\")\n",
        "plt.xlabel(\"Class\")\n",
        "plt.ylabel(\"Number of Observations\")"
      ]
    },
    {
      "cell_type": "code",
      "execution_count": null,
      "id": "0c70b080",
      "metadata": {
        "colab": {
          "base_uri": "https://localhost:8080/",
          "height": 295
        },
        "id": "0c70b080",
        "outputId": "9f64fb7e-33c8-433b-d91e-eb0601ea9dc1"
      },
      "outputs": [
        {
          "data": {
            "image/png": "[encoded data removed]",
            "text/plain": [
              "<Figure size 432x288 with 1 Axes>"
            ]
          },
          "metadata": {},
          "output_type": "display_data"
        }
      ],
      "source": [
        "#Save the normal and fradulent transcations in seperate dataframe\n",
        "normal_dataset = dataset[dataset.Class == 0]\n",
        "fraud_dataset = dataset[dataset.Class == 1]\n",
        "\n",
        "#Visualize transcation amounts for normal and fraudulent transcations\n",
        "bins = np.linspace(200,2500,100)\n",
        "plt.hist(normal_dataset.Amount,bins=bins,alpha=1,density=True,label='Normal')\n",
        "plt.hist(fraud_dataset.Amount,bins=bins,alpha=0.5,density=True,label='Fraud')\n",
        "plt.legend(loc='upper right')\n",
        "plt.title(\"Transcation Amount vs Percentage of Transcations\")\n",
        "plt.xlabel(\"Transcation Amount (USD)\")\n",
        "plt.ylabel(\"Percentage of Transcations\")\n",
        "plt.show()"
      ]
    },
    {
      "cell_type": "code",
      "execution_count": null,
      "id": "818efce7",
      "metadata": {
        "colab": {
          "base_uri": "https://localhost:8080/",
          "height": 488
        },
        "id": "818efce7",
        "outputId": "4139ee2f-e0d1-4208-bdcd-aa5b813c818d"
      },
      "outputs": [
        {
          "data": {
            "text/html": [
              "\n",
              "  <div id=\"df-99c1846b-65d8-43dc-be3c-8dcfb23b4d84\">\n",
              "    <div class=\"colab-df-container\">\n",
              "      <div>\n",
              "<style scoped>\n",
              "    .dataframe tbody tr th:only-of-type {\n",
              "        vertical-align: middle;\n",
              "    }\n",
              "\n",
              "    .dataframe tbody tr th {\n",
              "        vertical-align: top;\n",
              "    }\n",
              "\n",
              "    .dataframe thead th {\n",
              "        text-align: right;\n",
              "    }\n",
              "</style>\n",
              "<table border=\"1\" class=\"dataframe\">\n",
              "  <thead>\n",
              "    <tr style=\"text-align: right;\">\n",
              "      <th></th>\n",
              "      <th>Time</th>\n",
              "      <th>V1</th>\n",
              "      <th>V2</th>\n",
              "      <th>V3</th>\n",
              "      <th>V4</th>\n",
              "      <th>V5</th>\n",
              "      <th>V6</th>\n",
              "      <th>V7</th>\n",
              "      <th>V8</th>\n",
              "      <th>V9</th>\n",
              "      <th>...</th>\n",
              "      <th>V21</th>\n",
              "      <th>V22</th>\n",
              "      <th>V23</th>\n",
              "      <th>V24</th>\n",
              "      <th>V25</th>\n",
              "      <th>V26</th>\n",
              "      <th>V27</th>\n",
              "      <th>V28</th>\n",
              "      <th>Amount</th>\n",
              "      <th>Class</th>\n",
              "    </tr>\n",
              "  </thead>\n",
              "  <tbody>\n",
              "    <tr>\n",
              "      <th>0</th>\n",
              "      <td>0</td>\n",
              "      <td>-1.359807</td>\n",
              "      <td>-0.072781</td>\n",
              "      <td>2.536347</td>\n",
              "      <td>1.378155</td>\n",
              "      <td>-0.338321</td>\n",
              "      <td>0.462388</td>\n",
              "      <td>0.239599</td>\n",
              "      <td>0.098698</td>\n",
              "      <td>0.363787</td>\n",
              "      <td>...</td>\n",
              "      <td>-0.018307</td>\n",
              "      <td>0.277838</td>\n",
              "      <td>-0.110474</td>\n",
              "      <td>0.066928</td>\n",
              "      <td>0.128539</td>\n",
              "      <td>-0.189115</td>\n",
              "      <td>0.133558</td>\n",
              "      <td>-0.021053</td>\n",
              "      <td>149.62</td>\n",
              "      <td>0.0</td>\n",
              "    </tr>\n",
              "    <tr>\n",
              "      <th>1</th>\n",
              "      <td>0</td>\n",
              "      <td>1.191857</td>\n",
              "      <td>0.266151</td>\n",
              "      <td>0.166480</td>\n",
              "      <td>0.448154</td>\n",
              "      <td>0.060018</td>\n",
              "      <td>-0.082361</td>\n",
              "      <td>-0.078803</td>\n",
              "      <td>0.085102</td>\n",
              "      <td>-0.255425</td>\n",
              "      <td>...</td>\n",
              "      <td>-0.225775</td>\n",
              "      <td>-0.638672</td>\n",
              "      <td>0.101288</td>\n",
              "      <td>-0.339846</td>\n",
              "      <td>0.167170</td>\n",
              "      <td>0.125895</td>\n",
              "      <td>-0.008983</td>\n",
              "      <td>0.014724</td>\n",
              "      <td>2.69</td>\n",
              "      <td>0.0</td>\n",
              "    </tr>\n",
              "    <tr>\n",
              "      <th>2</th>\n",
              "      <td>1</td>\n",
              "      <td>-1.358354</td>\n",
              "      <td>-1.340163</td>\n",
              "      <td>1.773209</td>\n",
              "      <td>0.379780</td>\n",
              "      <td>-0.503198</td>\n",
              "      <td>1.800499</td>\n",
              "      <td>0.791461</td>\n",
              "      <td>0.247676</td>\n",
              "      <td>-1.514654</td>\n",
              "      <td>...</td>\n",
              "      <td>0.247998</td>\n",
              "      <td>0.771679</td>\n",
              "      <td>0.909412</td>\n",
              "      <td>-0.689281</td>\n",
              "      <td>-0.327642</td>\n",
              "      <td>-0.139097</td>\n",
              "      <td>-0.055353</td>\n",
              "      <td>-0.059752</td>\n",
              "      <td>378.66</td>\n",
              "      <td>0.0</td>\n",
              "    </tr>\n",
              "    <tr>\n",
              "      <th>3</th>\n",
              "      <td>1</td>\n",
              "      <td>-0.966272</td>\n",
              "      <td>-0.185226</td>\n",
              "      <td>1.792993</td>\n",
              "      <td>-0.863291</td>\n",
              "      <td>-0.010309</td>\n",
              "      <td>1.247203</td>\n",
              "      <td>0.237609</td>\n",
              "      <td>0.377436</td>\n",
              "      <td>-1.387024</td>\n",
              "      <td>...</td>\n",
              "      <td>-0.108300</td>\n",
              "      <td>0.005274</td>\n",
              "      <td>-0.190321</td>\n",
              "      <td>-1.175575</td>\n",
              "      <td>0.647376</td>\n",
              "      <td>-0.221929</td>\n",
              "      <td>0.062723</td>\n",
              "      <td>0.061458</td>\n",
              "      <td>123.50</td>\n",
              "      <td>0.0</td>\n",
              "    </tr>\n",
              "    <tr>\n",
              "      <th>4</th>\n",
              "      <td>2</td>\n",
              "      <td>-1.158233</td>\n",
              "      <td>0.877737</td>\n",
              "      <td>1.548718</td>\n",
              "      <td>0.403034</td>\n",
              "      <td>-0.407193</td>\n",
              "      <td>0.095921</td>\n",
              "      <td>0.592941</td>\n",
              "      <td>-0.270533</td>\n",
              "      <td>0.817739</td>\n",
              "      <td>...</td>\n",
              "      <td>-0.009431</td>\n",
              "      <td>0.798278</td>\n",
              "      <td>-0.137458</td>\n",
              "      <td>0.141267</td>\n",
              "      <td>-0.206010</td>\n",
              "      <td>0.502292</td>\n",
              "      <td>0.219422</td>\n",
              "      <td>0.215153</td>\n",
              "      <td>69.99</td>\n",
              "      <td>0.0</td>\n",
              "    </tr>\n",
              "    <tr>\n",
              "      <th>...</th>\n",
              "      <td>...</td>\n",
              "      <td>...</td>\n",
              "      <td>...</td>\n",
              "      <td>...</td>\n",
              "      <td>...</td>\n",
              "      <td>...</td>\n",
              "      <td>...</td>\n",
              "      <td>...</td>\n",
              "      <td>...</td>\n",
              "      <td>...</td>\n",
              "      <td>...</td>\n",
              "      <td>...</td>\n",
              "      <td>...</td>\n",
              "      <td>...</td>\n",
              "      <td>...</td>\n",
              "      <td>...</td>\n",
              "      <td>...</td>\n",
              "      <td>...</td>\n",
              "      <td>...</td>\n",
              "      <td>...</td>\n",
              "      <td>...</td>\n",
              "    </tr>\n",
              "    <tr>\n",
              "      <th>9960</th>\n",
              "      <td>14837</td>\n",
              "      <td>1.286884</td>\n",
              "      <td>-0.124610</td>\n",
              "      <td>0.148283</td>\n",
              "      <td>-0.259343</td>\n",
              "      <td>0.248357</td>\n",
              "      <td>0.896718</td>\n",
              "      <td>-0.626627</td>\n",
              "      <td>0.227693</td>\n",
              "      <td>1.618678</td>\n",
              "      <td>...</td>\n",
              "      <td>-0.381864</td>\n",
              "      <td>-0.904515</td>\n",
              "      <td>-0.027985</td>\n",
              "      <td>-1.743540</td>\n",
              "      <td>0.090885</td>\n",
              "      <td>0.870425</td>\n",
              "      <td>-0.084116</td>\n",
              "      <td>-0.022744</td>\n",
              "      <td>12.18</td>\n",
              "      <td>0.0</td>\n",
              "    </tr>\n",
              "    <tr>\n",
              "      <th>9961</th>\n",
              "      <td>14854</td>\n",
              "      <td>1.318742</td>\n",
              "      <td>0.496408</td>\n",
              "      <td>0.114876</td>\n",
              "      <td>0.695262</td>\n",
              "      <td>0.170133</td>\n",
              "      <td>-0.537180</td>\n",
              "      <td>0.025492</td>\n",
              "      <td>-0.272931</td>\n",
              "      <td>1.267298</td>\n",
              "      <td>...</td>\n",
              "      <td>-0.484943</td>\n",
              "      <td>-1.111176</td>\n",
              "      <td>0.028259</td>\n",
              "      <td>-0.549934</td>\n",
              "      <td>0.328634</td>\n",
              "      <td>0.106061</td>\n",
              "      <td>-0.046154</td>\n",
              "      <td>0.017304</td>\n",
              "      <td>1.78</td>\n",
              "      <td>0.0</td>\n",
              "    </tr>\n",
              "    <tr>\n",
              "      <th>9962</th>\n",
              "      <td>14857</td>\n",
              "      <td>1.241757</td>\n",
              "      <td>0.419587</td>\n",
              "      <td>0.806183</td>\n",
              "      <td>0.894811</td>\n",
              "      <td>-0.507886</td>\n",
              "      <td>-1.118126</td>\n",
              "      <td>0.018908</td>\n",
              "      <td>-0.343335</td>\n",
              "      <td>1.210781</td>\n",
              "      <td>...</td>\n",
              "      <td>-0.379396</td>\n",
              "      <td>-0.817785</td>\n",
              "      <td>0.181425</td>\n",
              "      <td>0.662879</td>\n",
              "      <td>0.172535</td>\n",
              "      <td>0.033636</td>\n",
              "      <td>-0.051084</td>\n",
              "      <td>0.017208</td>\n",
              "      <td>1.29</td>\n",
              "      <td>0.0</td>\n",
              "    </tr>\n",
              "    <tr>\n",
              "      <th>9963</th>\n",
              "      <td>14861</td>\n",
              "      <td>1.304800</td>\n",
              "      <td>-0.052885</td>\n",
              "      <td>0.415235</td>\n",
              "      <td>-0.081725</td>\n",
              "      <td>-0.223525</td>\n",
              "      <td>0.097752</td>\n",
              "      <td>-0.561240</td>\n",
              "      <td>0.067228</td>\n",
              "      <td>1.617203</td>\n",
              "      <td>...</td>\n",
              "      <td>-0.379597</td>\n",
              "      <td>-0.929204</td>\n",
              "      <td>0.020955</td>\n",
              "      <td>-0.877006</td>\n",
              "      <td>0.084384</td>\n",
              "      <td>0.807465</td>\n",
              "      <td>-0.099851</td>\n",
              "      <td>-0.015404</td>\n",
              "      <td>4.72</td>\n",
              "      <td>0.0</td>\n",
              "    </tr>\n",
              "    <tr>\n",
              "      <th>9964</th>\n",
              "      <td>14864</td>\n",
              "      <td>-1.747939</td>\n",
              "      <td>3.712444</td>\n",
              "      <td>NaN</td>\n",
              "      <td>NaN</td>\n",
              "      <td>NaN</td>\n",
              "      <td>NaN</td>\n",
              "      <td>NaN</td>\n",
              "      <td>NaN</td>\n",
              "      <td>NaN</td>\n",
              "      <td>...</td>\n",
              "      <td>NaN</td>\n",
              "      <td>NaN</td>\n",
              "      <td>NaN</td>\n",
              "      <td>NaN</td>\n",
              "      <td>NaN</td>\n",
              "      <td>NaN</td>\n",
              "      <td>NaN</td>\n",
              "      <td>NaN</td>\n",
              "      <td>NaN</td>\n",
              "      <td>NaN</td>\n",
              "    </tr>\n",
              "  </tbody>\n",
              "</table>\n",
              "<p>9965 rows × 31 columns</p>\n",
              "</div>\n",
              "      <button class=\"colab-df-convert\" onclick=\"convertToInteractive('df-99c1846b-65d8-43dc-be3c-8dcfb23b4d84')\"\n",
              "              title=\"Convert this dataframe to an interactive table.\"\n",
              "              style=\"display:none;\">\n",
              "        \n",
              "  <svg xmlns=\"http://www.w3.org/2000/svg\" height=\"24px\"viewBox=\"0 0 24 24\"\n",
              "       width=\"24px\">\n",
              "    <path d=\"M0 0h24v24H0V0z\" fill=\"none\"/>\n",
              "    <path d=\"M18.56 5.44l.94 2.06.94-2.06 2.06-.94-2.06-.94-.94-2.06-.94 2.06-2.06.94zm-11 1L8.5 8.5l.94-2.06 2.06-.94-2.06-.94L8.5 2.5l-.94 2.06-2.06.94zm10 10l.94 2.06.94-2.06 2.06-.94-2.06-.94-.94-2.06-.94 2.06-2.06.94z\"/><path d=\"M17.41 7.96l-1.37-1.37c-.4-.4-.92-.59-1.43-.59-.52 0-1.04.2-1.43.59L10.3 9.45l-7.72 7.72c-.78.78-.78 2.05 0 2.83L4 21.41c.39.39.9.59 1.41.59.51 0 1.02-.2 1.41-.59l7.78-7.78 2.81-2.81c.8-.78.8-2.07 0-2.86zM5.41 20L4 18.59l7.72-7.72 1.47 1.35L5.41 20z\"/>\n",
              "  </svg>\n",
              "      </button>\n",
              "      \n",
              "  <style>\n",
              "    .colab-df-container {\n",
              "      display:flex;\n",
              "      flex-wrap:wrap;\n",
              "      gap: 12px;\n",
              "    }\n",
              "\n",
              "    .colab-df-convert {\n",
              "      background-color: #E8F0FE;\n",
              "      border: none;\n",
              "      border-radius: 50%;\n",
              "      cursor: pointer;\n",
              "      display: none;\n",
              "      fill: #1967D2;\n",
              "      height: 32px;\n",
              "      padding: 0 0 0 0;\n",
              "      width: 32px;\n",
              "    }\n",
              "\n",
              "    .colab-df-convert:hover {\n",
              "      background-color: #E2EBFA;\n",
              "      box-shadow: 0px 1px 2px rgba(60, 64, 67, 0.3), 0px 1px 3px 1px rgba(60, 64, 67, 0.15);\n",
              "      fill: #174EA6;\n",
              "    }\n",
              "\n",
              "    [theme=dark] .colab-df-convert {\n",
              "      background-color: #3B4455;\n",
              "      fill: #D2E3FC;\n",
              "    }\n",
              "\n",
              "    [theme=dark] .colab-df-convert:hover {\n",
              "      background-color: #434B5C;\n",
              "      box-shadow: 0px 1px 3px 1px rgba(0, 0, 0, 0.15);\n",
              "      filter: drop-shadow(0px 1px 2px rgba(0, 0, 0, 0.3));\n",
              "      fill: #FFFFFF;\n",
              "    }\n",
              "  </style>\n",
              "\n",
              "      <script>\n",
              "        const buttonEl =\n",
              "          document.querySelector('#df-99c1846b-65d8-43dc-be3c-8dcfb23b4d84 button.colab-df-convert');\n",
              "        buttonEl.style.display =\n",
              "          google.colab.kernel.accessAllowed ? 'block' : 'none';\n",
              "\n",
              "        async function convertToInteractive(key) {\n",
              "          const element = document.querySelector('#df-99c1846b-65d8-43dc-be3c-8dcfb23b4d84');\n",
              "          const dataTable =\n",
              "            await google.colab.kernel.invokeFunction('convertToInteractive',\n",
              "                                                     [key], {});\n",
              "          if (!dataTable) return;\n",
              "\n",
              "          const docLinkHtml = 'Like what you see? Visit the ' +\n",
              "            '<a target=\"_blank\" href=https://colab.research.google.com/notebooks/data_table.ipynb>data table notebook</a>'\n",
              "            + ' to learn more about interactive tables.';\n",
              "          element.innerHTML = '';\n",
              "          dataTable['output_type'] = 'display_data';\n",
              "          await google.colab.output.renderOutput(dataTable, element);\n",
              "          const docLink = document.createElement('div');\n",
              "          docLink.innerHTML = docLinkHtml;\n",
              "          element.appendChild(docLink);\n",
              "        }\n",
              "      </script>\n",
              "    </div>\n",
              "  </div>\n",
              "  "
            ],
            "text/plain": [
              "       Time        V1        V2        V3        V4        V5        V6  \\\n",
              "0         0 -1.359807 -0.072781  2.536347  1.378155 -0.338321  0.462388   \n",
              "1         0  1.191857  0.266151  0.166480  0.448154  0.060018 -0.082361   \n",
              "2         1 -1.358354 -1.340163  1.773209  0.379780 -0.503198  1.800499   \n",
              "3         1 -0.966272 -0.185226  1.792993 -0.863291 -0.010309  1.247203   \n",
              "4         2 -1.158233  0.877737  1.548718  0.403034 -0.407193  0.095921   \n",
              "...     ...       ...       ...       ...       ...       ...       ...   \n",
              "9960  14837  1.286884 -0.124610  0.148283 -0.259343  0.248357  0.896718   \n",
              "9961  14854  1.318742  0.496408  0.114876  0.695262  0.170133 -0.537180   \n",
              "9962  14857  1.241757  0.419587  0.806183  0.894811 -0.507886 -1.118126   \n",
              "9963  14861  1.304800 -0.052885  0.415235 -0.081725 -0.223525  0.097752   \n",
              "9964  14864 -1.747939  3.712444       NaN       NaN       NaN       NaN   \n",
              "\n",
              "            V7        V8        V9  ...       V21       V22       V23  \\\n",
              "0     0.239599  0.098698  0.363787  ... -0.018307  0.277838 -0.110474   \n",
              "1    -0.078803  0.085102 -0.255425  ... -0.225775 -0.638672  0.101288   \n",
              "2     0.791461  0.247676 -1.514654  ...  0.247998  0.771679  0.909412   \n",
              "3     0.237609  0.377436 -1.387024  ... -0.108300  0.005274 -0.190321   \n",
              "4     0.592941 -0.270533  0.817739  ... -0.009431  0.798278 -0.137458   \n",
              "...        ...       ...       ...  ...       ...       ...       ...   \n",
              "9960 -0.626627  0.227693  1.618678  ... -0.381864 -0.904515 -0.027985   \n",
              "9961  0.025492 -0.272931  1.267298  ... -0.484943 -1.111176  0.028259   \n",
              "9962  0.018908 -0.343335  1.210781  ... -0.379396 -0.817785  0.181425   \n",
              "9963 -0.561240  0.067228  1.617203  ... -0.379597 -0.929204  0.020955   \n",
              "9964       NaN       NaN       NaN  ...       NaN       NaN       NaN   \n",
              "\n",
              "           V24       V25       V26       V27       V28  Amount  Class  \n",
              "0     0.066928  0.128539 -0.189115  0.133558 -0.021053  149.62    0.0  \n",
              "1    -0.339846  0.167170  0.125895 -0.008983  0.014724    2.69    0.0  \n",
              "2    -0.689281 -0.327642 -0.139097 -0.055353 -0.059752  378.66    0.0  \n",
              "3    -1.175575  0.647376 -0.221929  0.062723  0.061458  123.50    0.0  \n",
              "4     0.141267 -0.206010  0.502292  0.219422  0.215153   69.99    0.0  \n",
              "...        ...       ...       ...       ...       ...     ...    ...  \n",
              "9960 -1.743540  0.090885  0.870425 -0.084116 -0.022744   12.18    0.0  \n",
              "9961 -0.549934  0.328634  0.106061 -0.046154  0.017304    1.78    0.0  \n",
              "9962  0.662879  0.172535  0.033636 -0.051084  0.017208    1.29    0.0  \n",
              "9963 -0.877006  0.084384  0.807465 -0.099851 -0.015404    4.72    0.0  \n",
              "9964       NaN       NaN       NaN       NaN       NaN     NaN    NaN  \n",
              "\n",
              "[9965 rows x 31 columns]"
            ]
          },
          "execution_count": 10,
          "metadata": {},
          "output_type": "execute_result"
        }
      ],
      "source": [
        "dataset"
      ]
    },
    {
      "cell_type": "code",
      "execution_count": null,
      "id": "3c06ac70",
      "metadata": {
        "id": "3c06ac70"
      },
      "outputs": [],
      "source": [
        "sc = StandardScaler()\n",
        "dataset['Time'] = sc.fit_transform(dataset['Time'].values.reshape(-1,1))\n",
        "dataset['Amount'] = sc.fit_transform(dataset['Amount'].values.reshape(-1,1))"
      ]
    },
    {
      "cell_type": "code",
      "execution_count": null,
      "id": "3252120b",
      "metadata": {
        "id": "3252120b"
      },
      "outputs": [],
      "source": [
        "raw_data = dataset.values\n",
        "#The last element contains if the transcation is normal which is represented by 0 and if fraud then 1\n",
        "labels = raw_data[:,-1]\n",
        "\n",
        "#The other data points are the electrocadriogram data\n",
        "data = raw_data[:,0:-1]\n",
        "\n",
        "train_data,test_data,train_labels,test_labels = train_test_split(data,labels,test_size = 0.2,random_state =2021)"
      ]
    },
    {
      "cell_type": "code",
      "execution_count": null,
      "id": "6eb77382",
      "metadata": {
        "id": "6eb77382"
      },
      "outputs": [],
      "source": [
        "min_val = tf.reduce_min(train_data)\n",
        "max_val = tf.reduce_max(train_data)\n",
        "\n",
        "train_data = (train_data - min_val) / (max_val - min_val)\n",
        "test_data = (test_data - min_val) / (max_val - min_val)\n",
        "\n",
        "train_data = tf.cast(train_data,tf.float32)\n",
        "test_data = tf.cast(test_data,tf.float32)"
      ]
    },
    {
      "cell_type": "code",
      "execution_count": null,
      "id": "ccef8723",
      "metadata": {
        "colab": {
          "base_uri": "https://localhost:8080/"
        },
        "id": "ccef8723",
        "outputId": "e4656b5c-d478-4a83-eff5-69ce7691cee1"
      },
      "outputs": [
        {
          "name": "stdout",
          "output_type": "stream",
          "text": [
            "No. of records in Fraud Train Data= 30\n",
            "No. of records in Normal Train Data= 7942\n",
            "No. of records in Fraud Test Data= 9\n",
            "No. of records in Normal Test Data= 1984\n"
          ]
        }
      ],
      "source": [
        "train_labels = train_labels.astype(bool)\n",
        "test_labels = test_labels.astype(bool)\n",
        "\n",
        "#Creating normal and fraud datasets\n",
        "normal_train_data = train_data[~train_labels]\n",
        "normal_test_data = test_data[~test_labels]\n",
        "\n",
        "fraud_train_data = train_data[train_labels]\n",
        "fraud_test_data = test_data[test_labels]\n",
        "print(\"No. of records in Fraud Train Data=\",len(fraud_train_data))\n",
        "print(\"No. of records in Normal Train Data=\",len(normal_train_data))\n",
        "print(\"No. of records in Fraud Test Data=\",len(fraud_test_data))\n",
        "print(\"No. of records in Normal Test Data=\",len(normal_test_data))"
      ]
    },
    {
      "cell_type": "code",
      "execution_count": null,
      "id": "86884b51",
      "metadata": {
        "id": "86884b51"
      },
      "outputs": [],
      "source": [
        "nb_epoch = 50\n",
        "batch_size = 64\n",
        "input_dim = normal_train_data.shape[1]\n",
        "#num of columns,30\n",
        "encoding_dim = 14\n",
        "hidden_dim1 = int(encoding_dim / 2)\n",
        "hidden_dim2 = 4\n",
        "learning_rate = 1e-7"
      ]
    },
    {
      "cell_type": "code",
      "execution_count": null,
      "id": "47ba4bbb",
      "metadata": {
        "colab": {
          "base_uri": "https://localhost:8080/"
        },
        "id": "47ba4bbb",
        "outputId": "6ef6b18a-c10e-460d-84ae-36c476814b6b"
      },
      "outputs": [
        {
          "name": "stdout",
          "output_type": "stream",
          "text": [
            "Model: \"model\"\n",
            "_________________________________________________________________\n",
            " Layer (type)                Output Shape              Param #   \n",
            "=================================================================\n",
            " input_1 (InputLayer)        [(None, 30)]              0         \n",
            "                                                                 \n",
            " dense (Dense)               (None, 14)                434       \n",
            "                                                                 \n",
            " dropout (Dropout)           (None, 14)                0         \n",
            "                                                                 \n",
            " dense_1 (Dense)             (None, 7)                 105       \n",
            "                                                                 \n",
            " dense_2 (Dense)             (None, 4)                 32        \n",
            "                                                                 \n",
            " dense_3 (Dense)             (None, 7)                 35        \n",
            "                                                                 \n",
            " dropout_1 (Dropout)         (None, 7)                 0         \n",
            "                                                                 \n",
            " dense_4 (Dense)             (None, 14)                112       \n",
            "                                                                 \n",
            " dense_5 (Dense)             (None, 30)                450       \n",
            "                                                                 \n",
            "=================================================================\n",
            "Total params: 1,168\n",
            "Trainable params: 1,168\n",
            "Non-trainable params: 0\n",
            "_________________________________________________________________\n"
          ]
        }
      ],
      "source": [
        "#input layer\n",
        "input_layer = tf.keras.layers.Input(shape=(input_dim,))\n",
        "\n",
        "#Encoder\n",
        "encoder = tf.keras.layers.Dense(encoding_dim,activation=\"tanh\",activity_regularizer = tf.keras.regularizers.l2(learning_rate))(input_layer)\n",
        "encoder = tf.keras.layers.Dropout(0.2)(encoder)\n",
        "encoder = tf.keras.layers.Dense(hidden_dim1,activation='relu')(encoder)\n",
        "encoder = tf.keras.layers.Dense(hidden_dim2,activation=tf.nn.leaky_relu)(encoder)\n",
        "\n",
        "#Decoder\n",
        "decoder = tf.keras.layers.Dense(hidden_dim1,activation='relu')(encoder)\n",
        "decoder = tf.keras.layers.Dropout(0.2)(decoder)\n",
        "decoder = tf.keras.layers.Dense(encoding_dim,activation='relu')(decoder)\n",
        "decoder = tf.keras.layers.Dense(input_dim,activation='tanh')(decoder)\n",
        "\n",
        "#Autoencoder\n",
        "autoencoder = tf.keras.Model(inputs = input_layer,outputs = decoder)\n",
        "autoencoder.summary()"
      ]
    },
    {
      "cell_type": "code",
      "execution_count": null,
      "id": "33a84297",
      "metadata": {
        "id": "33a84297"
      },
      "outputs": [],
      "source": [
        "cp = tf.keras.callbacks.ModelCheckpoint(filepath=\"autoencoder_fraud.h5\",mode='min',monitor='val_loss',verbose=2,save_best_only=True)\n",
        "#Define our early stopping\n",
        "early_stop = tf.keras.callbacks.EarlyStopping(\n",
        "                monitor='val_loss',\n",
        "                min_delta=0.0001,\n",
        "                patience=10,\n",
        "                verbose=11,\n",
        "                mode='min',\n",
        "                restore_best_weights=True\n",
        ")"
      ]
    },
    {
      "cell_type": "code",
      "execution_count": null,
      "id": "8ced15a4",
      "metadata": {
        "id": "8ced15a4"
      },
      "outputs": [],
      "source": [
        "autoencoder.compile(metrics=['accuracy'],loss= 'mean_squared_error',optimizer='adam')"
      ]
    },
    {
      "cell_type": "code",
      "execution_count": null,
      "id": "8e0a740e",
      "metadata": {
        "colab": {
          "base_uri": "https://localhost:8080/"
        },
        "id": "8e0a740e",
        "outputId": "e47917a9-fbf5-4174-8d58-621f044eb43e"
      },
      "outputs": [
        {
          "name": "stdout",
          "output_type": "stream",
          "text": [
            "Epoch 1/50\n",
            "119/125 [===========================>..] - ETA: 0s - loss: 0.0874 - accuracy: 0.0081\n",
            "Epoch 1: val_loss did not improve from inf\n",
            "125/125 [==============================] - 1s 4ms/step - loss: 0.0844 - accuracy: 0.0081 - val_loss: nan - val_accuracy: 0.0015\n",
            "Epoch 2/50\n",
            "123/125 [============================>.] - ETA: 0s - loss: 0.0056 - accuracy: 0.0819\n",
            "Epoch 2: val_loss did not improve from inf\n",
            "125/125 [==============================] - 0s 3ms/step - loss: 0.0056 - accuracy: 0.0825 - val_loss: nan - val_accuracy: 0.1586\n",
            "Epoch 3/50\n",
            "119/125 [===========================>..] - ETA: 0s - loss: 0.0021 - accuracy: 0.1036\n",
            "Epoch 3: val_loss did not improve from inf\n",
            "125/125 [==============================] - 0s 3ms/step - loss: 0.0020 - accuracy: 0.1038 - val_loss: nan - val_accuracy: 0.1485\n",
            "Epoch 4/50\n",
            "119/125 [===========================>..] - ETA: 0s - loss: 7.2833e-04 - accuracy: 0.1046\n",
            "Epoch 4: val_loss did not improve from inf\n",
            "125/125 [==============================] - 0s 3ms/step - loss: 7.1673e-04 - accuracy: 0.1056 - val_loss: nan - val_accuracy: 0.1485\n",
            "Epoch 5/50\n",
            "108/125 [========================>.....] - ETA: 0s - loss: 3.7958e-04 - accuracy: 0.1163\n",
            "Epoch 5: val_loss did not improve from inf\n",
            "125/125 [==============================] - 0s 3ms/step - loss: 3.7210e-04 - accuracy: 0.1181 - val_loss: nan - val_accuracy: 0.1485\n",
            "Epoch 6/50\n",
            "120/125 [===========================>..] - ETA: 0s - loss: 2.7484e-04 - accuracy: 0.1135\n",
            "Epoch 6: val_loss did not improve from inf\n",
            "125/125 [==============================] - 0s 3ms/step - loss: 2.7400e-04 - accuracy: 0.1146 - val_loss: nan - val_accuracy: 0.1485\n",
            "Epoch 7/50\n",
            "105/125 [========================>.....] - ETA: 0s - loss: 2.2777e-04 - accuracy: 0.1189\n",
            "Epoch 7: val_loss did not improve from inf\n",
            "125/125 [==============================] - 0s 3ms/step - loss: 2.2658e-04 - accuracy: 0.1191 - val_loss: nan - val_accuracy: 0.1485\n",
            "Epoch 8/50\n",
            "119/125 [===========================>..] - ETA: 0s - loss: 2.0484e-04 - accuracy: 0.1205\n",
            "Epoch 8: val_loss did not improve from inf\n",
            "125/125 [==============================] - 0s 3ms/step - loss: 2.0565e-04 - accuracy: 0.1210 - val_loss: nan - val_accuracy: 0.1485\n",
            "Epoch 9/50\n",
            "114/125 [==========================>...] - ETA: 0s - loss: 1.9466e-04 - accuracy: 0.1161\n",
            "Epoch 9: val_loss did not improve from inf\n",
            "125/125 [==============================] - 0s 3ms/step - loss: 1.9388e-04 - accuracy: 0.1160 - val_loss: nan - val_accuracy: 0.1515\n",
            "Epoch 10/50\n",
            "124/125 [============================>.] - ETA: 0s - loss: 1.8703e-04 - accuracy: 0.1249\n",
            "Epoch 10: val_loss did not improve from inf\n",
            "Restoring model weights from the end of the best epoch: 1.\n",
            "125/125 [==============================] - 0s 3ms/step - loss: 1.8699e-04 - accuracy: 0.1248 - val_loss: nan - val_accuracy: 0.1480\n",
            "Epoch 10: early stopping\n"
          ]
        }
      ],
      "source": [
        "history = autoencoder.fit(normal_train_data,normal_train_data,epochs = nb_epoch,\n",
        "                         batch_size = batch_size,shuffle = True,\n",
        "                         validation_data = (test_data,test_data),\n",
        "                         verbose=1,\n",
        "                         callbacks = [cp,early_stop]).history"
      ]
    },
    {
      "cell_type": "code",
      "execution_count": null,
      "id": "28874afa",
      "metadata": {
        "colab": {
          "base_uri": "https://localhost:8080/",
          "height": 295
        },
        "id": "28874afa",
        "outputId": "2ec915c7-22c8-4877-e7a6-eccf9a4ba6ee"
      },
      "outputs": [
        {
          "data": {
            "image/png": "[encoded data removed]",
            "text/plain": [
              "<Figure size 432x288 with 1 Axes>"
            ]
          },
          "metadata": {},
          "output_type": "display_data"
        }
      ],
      "source": [
        "plt.plot(history['loss'],linewidth = 2,label = 'Train')\n",
        "plt.plot(history['val_loss'],linewidth = 2,label = 'Test')\n",
        "plt.legend(loc='upper right')\n",
        "plt.title('Model Loss')\n",
        "plt.ylabel('Loss')\n",
        "plt.xlabel('Epoch')\n",
        "\n",
        "#plt.ylim(ymin=0.70,ymax=1)\n",
        "\n",
        "plt.show()"
      ]
    },
    {
      "cell_type": "code",
      "execution_count": null,
      "id": "ccfa4e54",
      "metadata": {
        "colab": {
          "base_uri": "https://localhost:8080/"
        },
        "id": "ccfa4e54",
        "outputId": "4e1f7a5b-3030-44fa-e4b0-37225ca2101b"
      },
      "outputs": [
        {
          "name": "stdout",
          "output_type": "stream",
          "text": [
            "63/63 [==============================] - 0s 1ms/step\n"
          ]
        }
      ],
      "source": [
        "test_x_predictions = autoencoder.predict(test_data)\n",
        "mse = np.mean(np.power(test_data - test_x_predictions, 2),axis = 1)\n",
        "error_df = pd.DataFrame({'Reconstruction_error':mse,\n",
        "                         'True_class':test_labels})"
      ]
    },
    {
      "cell_type": "code",
      "execution_count": null,
      "id": "e27761c3",
      "metadata": {
        "colab": {
          "base_uri": "https://localhost:8080/",
          "height": 295
        },
        "id": "e27761c3",
        "outputId": "557854bf-8e7c-476a-d211-5f17226bb78f"
      },
      "outputs": [
        {
          "data": {
            "image/png": "[encoded data removed]",
            "text/plain": [
              "<Figure size 432x288 with 1 Axes>"
            ]
          },
          "metadata": {},
          "output_type": "display_data"
        }
      ],
      "source": [
        "threshold_fixed = 50\n",
        "groups = error_df.groupby('True_class')\n",
        "fig,ax = plt.subplots()\n",
        "\n",
        "for name,group in groups:\n",
        "        ax.plot(group.index,group.Reconstruction_error,marker='o',ms = 3.5,linestyle='',\n",
        "                label = \"Fraud\" if  name==1 else \"Normal\")\n",
        "ax.hlines(threshold_fixed,ax.get_xlim()[0],ax.get_xlim()[1],colors=\"r\",zorder=100,label=\"Threshold\")\n",
        "ax.legend()\n",
        "plt.title(\"Reconstructions error for normal and fraud data\")\n",
        "plt.ylabel(\"Reconstruction error\")\n",
        "plt.xlabel(\"Data point index\")\n",
        "plt.show()"
      ]
    },
    {
      "cell_type": "code",
      "execution_count": null,
      "id": "f6e8cafe",
      "metadata": {
        "colab": {
          "base_uri": "https://localhost:8080/",
          "height": 402
        },
        "id": "f6e8cafe",
        "outputId": "8a52a541-6a71-4b0b-e55b-10d2f47c0a73"
      },
      "outputs": [
        {
          "data": {
            "image/png": "[encoded data removed]",
            "text/plain": [
              "<Figure size 288x288 with 2 Axes>"
            ]
          },
          "metadata": {},
          "output_type": "display_data"
        },
        {
          "name": "stdout",
          "output_type": "stream",
          "text": [
            "Accuracy : 0.9954841946813848\n",
            "Recall : 0.0\n",
            "Precision : 0.0\n"
          ]
        },
        {
          "name": "stderr",
          "output_type": "stream",
          "text": [
            "/usr/local/lib/python3.7/dist-packages/sklearn/metrics/_classification.py:1318: UndefinedMetricWarning: Precision is ill-defined and being set to 0.0 due to no predicted samples. Use `zero_division` parameter to control this behavior.\n",
            "  _warn_prf(average, modifier, msg_start, len(result))\n"
          ]
        }
      ],
      "source": [
        "threshold_fixed = 52\n",
        "pred_y = [1 if e > threshold_fixed else 0\n",
        "          for e in\n",
        "        error_df.Reconstruction_error.values]\n",
        "error_df['pred'] = pred_y\n",
        "conf_matrix = confusion_matrix(error_df.True_class,pred_y)\n",
        "\n",
        "plt.figure(figsize = (4,4))\n",
        "sns.heatmap(conf_matrix,xticklabels = LABELS,yticklabels = LABELS,annot = True,fmt=\"d\")\n",
        "plt.title(\"Confusion matrix\")\n",
        "plt.ylabel(\"True class\")\n",
        "plt.xlabel(\"Predicted class\")\n",
        "plt.show()\n",
        "\n",
        "#Print Accuracy,Precision and Recall\n",
        "print(\"Accuracy :\",accuracy_score(error_df['True_class'],error_df['pred']))\n",
        "print(\"Recall :\",recall_score(error_df['True_class'],error_df['pred']))\n",
        "print(\"Precision :\",precision_score(error_df['True_class'],error_df['pred']))"
      ]
    }
  ],
  "metadata": {
    "colab": {
      "provenance": []
    },
    "kernelspec": {
      "display_name": "Python 3 (ipykernel)",
      "language": "python",
      "name": "python3"
    },
    "language_info": {
      "codemirror_mode": {
        "name": "ipython",
        "version": 3
      },
      "file_extension": ".py",
      "mimetype": "text/x-python",
      "name": "python",
      "nbconvert_exporter": "python",
      "pygments_lexer": "ipython3",
      "version": "3.7.13"
    }
  },
  "nbformat": 4,
  "nbformat_minor": 5
}